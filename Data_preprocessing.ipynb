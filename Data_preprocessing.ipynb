{
 "cells": [
  {
   "cell_type": "markdown",
   "metadata": {
    "colab": {},
    "colab_type": "code",
    "id": "jUYFZRkSRxgs"
   },
   "source": [
    "The data preprocessing phase.\n",
    "---\n",
    "\n",
    "After data collection, we cleaned the data since our data set was quite imbalance and had a lot of features. We dropped inull values and rrelevant features such as ID, Case, Number, FBI code, Updated On, ICUR, X and Y Coordinates, Location and Description. There were 34 distinct types of crimes and we dropped those crimes we thought were not very significant. Similar types of crime such as sexual assault, prostitution and sex offenses were mierged together. Hence after preprocessing the primary crime types dropped from 35 to 18. A new csv file was created after pre-processing for analysis.\n",
    "\n",
    "Download the dataset from link  https://data.cityofchicago.org/Public-Safety/Crimes-2001-to-Present/ijzp-q8t2\n",
    "\n",
    "and place in dataset folder.\n",
    "\n"
   ]
  },
  {
   "cell_type": "code",
   "execution_count": 2,
   "metadata": {},
   "outputs": [
    {
     "name": "stdout",
     "output_type": "stream",
     "text": [
      "Collecting findspark\n",
      "  Downloading findspark-2.0.1-py2.py3-none-any.whl (4.4 kB)\n",
      "Installing collected packages: findspark\n",
      "Successfully installed findspark-2.0.1\n",
      "Note: you may need to restart the kernel to use updated packages.\n"
     ]
    }
   ],
   "source": [
    "pip install findspark"
   ]
  },
  {
   "cell_type": "code",
   "execution_count": 3,
   "metadata": {
    "colab": {},
    "colab_type": "code",
    "id": "C8tx_u3XSvMA",
    "scrolled": true
   },
   "outputs": [
    {
     "name": "stderr",
     "output_type": "stream",
     "text": [
      "23/11/16 01:06:30 WARN Utils: Your hostname, praveens-MacBook-Pro.local resolves to a loopback address: 127.0.0.1; using 192.168.1.5 instead (on interface en0)\n",
      "23/11/16 01:06:30 WARN Utils: Set SPARK_LOCAL_IP if you need to bind to another address\n",
      "Setting default log level to \"WARN\".\n",
      "To adjust logging level use sc.setLogLevel(newLevel). For SparkR, use setLogLevel(newLevel).\n",
      "23/11/16 01:06:30 WARN NativeCodeLoader: Unable to load native-hadoop library for your platform... using builtin-java classes where applicable\n",
      "23/11/16 01:06:31 WARN Utils: Service 'SparkUI' could not bind on port 4040. Attempting port 4041.\n"
     ]
    }
   ],
   "source": [
    "import findspark\n",
    "findspark.init()\n",
    "from pyspark.sql import SparkSession\n",
    "spark = SparkSession.builder.master(\"local[*]\").getOrCreate()"
   ]
  },
  {
   "cell_type": "code",
   "execution_count": 4,
   "metadata": {
    "colab": {},
    "colab_type": "code",
    "id": "0wkWEhgTS4R5"
   },
   "outputs": [],
   "source": [
    "#spark imports\n",
    "from pyspark import SparkContext\n",
    "from pyspark.sql import SparkSession\n",
    "from pyspark.sql import DataFrame\n",
    "import csv\n",
    "from pyspark.sql.types import *\n",
    "from pyspark.sql.functions import format_number, when\n",
    "import pyspark.sql.functions as F"
   ]
  },
  {
   "cell_type": "code",
   "execution_count": 5,
   "metadata": {
    "colab": {
     "base_uri": "https://localhost:8080/",
     "height": 71
    },
    "colab_type": "code",
    "id": "WWW1sQ_SmnHR",
    "outputId": "2b7bc3a1-93dd-4a2b-e3b5-9fbae13e142e"
   },
   "outputs": [
    {
     "name": "stderr",
     "output_type": "stream",
     "text": [
      "23/11/16 01:06:43 WARN GarbageCollectionMetrics: To enable non-built-in garbage collector(s) List(G1 Concurrent GC), users should configure it(them) to spark.eventLog.gcMetrics.youngGenerationGarbageCollectors or spark.eventLog.gcMetrics.oldGenerationGarbageCollectors\n"
     ]
    }
   ],
   "source": [
    "import pandas as pd\n",
    "import matplotlib.pyplot as plt\n",
    "import seaborn as sns\n",
    "import numpy as np\n",
    "\n",
    "from sklearn.model_selection import train_test_split, cross_val_score\n",
    "from sklearn.neighbors import KNeighborsClassifier\n",
    "from sklearn import metrics\n",
    "from sklearn.preprocessing import StandardScaler\n",
    "from sklearn.preprocessing import LabelEncoder"
   ]
  },
  {
   "cell_type": "code",
   "execution_count": null,
   "metadata": {
    "colab": {
     "base_uri": "https://localhost:8080/",
     "height": 34
    },
    "colab_type": "code",
    "id": "a_IJuPcoiMeW",
    "outputId": "f6fe7ed8-863f-4138-ddf4-02560318dd1e"
   },
   "outputs": [],
   "source": []
  },
  {
   "cell_type": "code",
   "execution_count": 8,
   "metadata": {
    "colab": {},
    "colab_type": "code",
    "id": "lcLNCc297NzQ"
   },
   "outputs": [
    {
     "name": "stderr",
     "output_type": "stream",
     "text": [
      "23/11/16 01:08:56 WARN SparkSession: Using an existing Spark session; only runtime SQL configurations will take effect.\n"
     ]
    }
   ],
   "source": [
    "#change RAM allocation, current = 20GB\n",
    "#change Core allocation, current = 3 Cores\n",
    "\n",
    "spark = SparkSession.builder.appName(\"Project - Chicago crime\").config(\"spark.some.config.option\", \"some-value\").config(\"spark.driver.memory\", \"16g\").config(\"spark.driver.cores\", '3').getOrCreate()\n",
    "\n"
   ]
  },
  {
   "cell_type": "code",
   "execution_count": null,
   "metadata": {
    "colab": {
     "base_uri": "https://localhost:8080/",
     "height": 34
    },
    "colab_type": "code",
    "id": "u8jAl4MDzplO",
    "outputId": "b655e987-af95-448d-bc54-a28c18b52ae1"
   },
   "outputs": [],
   "source": []
  },
  {
   "cell_type": "code",
   "execution_count": 9,
   "metadata": {
    "colab": {},
    "colab_type": "code",
    "id": "VhnN28da7YZm"
   },
   "outputs": [],
   "source": [
    "crimes_schema = StructType([StructField(\"ID\", IntegerType(), True),\n",
    "                            StructField(\"Case Number\", StringType(), True),\n",
    "                            StructField(\"Date\", StringType(), True ),\n",
    "                            StructField(\"Block\", StringType(), True),\n",
    "                            StructField(\"IUCR\", StringType(), True),\n",
    "                            StructField(\"Primary Type\", StringType(), True  ),\n",
    "                            StructField(\"Description\", StringType(), True ),\n",
    "                            StructField(\"Location Description\", StringType(), True ),\n",
    "                            StructField(\"Arrest\", BooleanType(), True),\n",
    "                            StructField(\"Domestic\", BooleanType(), True),\n",
    "                            StructField(\"Beat\", IntegerType(), True),\n",
    "                            StructField(\"District\", IntegerType(), True),\n",
    "                            StructField(\"Ward\", IntegerType(), True),\n",
    "                            StructField(\"Community Area\", IntegerType(), True),\n",
    "                            StructField(\"FBI Code\", StringType(), True ),\n",
    "                            StructField(\"X Coordinate\", IntegerType(), True),\n",
    "                            StructField(\"Y Coordinate\", IntegerType(), True ),\n",
    "                            StructField(\"Year\", IntegerType(), True),\n",
    "                            StructField(\"Updated On\", StringType(), True ),\n",
    "                            StructField(\"Latitude\", DoubleType(), True),\n",
    "                            StructField(\"Longitude\", DoubleType(), True),\n",
    "                            StructField(\"Location\", StringType(), True )\n",
    "                            ])"
   ]
  },
  {
   "cell_type": "code",
   "execution_count": 10,
   "metadata": {
    "colab": {},
    "colab_type": "code",
    "id": "cpuUJg3qTuBr"
   },
   "outputs": [],
   "source": [
    "data = spark.read.csv('Dataset/Crimes_-_2001_to_Present.csv',header = True,schema = crimes_schema)"
   ]
  },
  {
   "cell_type": "code",
   "execution_count": 11,
   "metadata": {},
   "outputs": [
    {
     "name": "stderr",
     "output_type": "stream",
     "text": [
      "\r",
      "[Stage 0:>                                                        (0 + 16) / 16]\r"
     ]
    },
    {
     "name": "stdout",
     "output_type": "stream",
     "text": [
      "22\n"
     ]
    },
    {
     "name": "stderr",
     "output_type": "stream",
     "text": [
      "\r",
      "                                                                                \r"
     ]
    }
   ],
   "source": [
    "data.count()\n",
    "print(len(data.columns))"
   ]
  },
  {
   "cell_type": "code",
   "execution_count": 12,
   "metadata": {
    "colab": {
     "base_uri": "https://localhost:8080/",
     "height": 122
    },
    "colab_type": "code",
    "id": "NYi4kEyjj9Lm",
    "outputId": "5f275b2e-b5f5-4206-8979-cbb623686238"
   },
   "outputs": [
    {
     "data": {
      "text/plain": [
       "[Row(ID=5741943, Case Number='HN549294', Date='08/25/2007 09:22:18 AM', Block='074XX N ROGERS AVE', IUCR='0560', Primary Type='ASSAULT', Description='SIMPLE', Location Description='OTHER', Arrest=False, Domestic=False, Beat=2422, District=24, Ward=49, Community Area=1, FBI Code='08A', X Coordinate=None, Y Coordinate=None, Year=2007, Updated On='08/17/2015 03:03:40 PM', Latitude=None, Longitude=None, Location=None),\n",
       " Row(ID=1930689, Case Number='HH109118', Date='01/05/2002 09:24:00 PM', Block='007XX E 103 ST', IUCR='0820', Primary Type='THEFT', Description='$500 AND UNDER', Location Description='GAS STATION', Arrest=True, Domestic=False, Beat=512, District=5, Ward=None, Community Area=None, FBI Code='06', X Coordinate=None, Y Coordinate=None, Year=2002, Updated On='02/04/2016 06:33:39 AM', Latitude=None, Longitude=None, Location=None),\n",
       " Row(ID=13203321, Case Number='JG415333', Date='09/06/2023 05:00:00 PM', Block='002XX N Wells st', IUCR='1320', Primary Type='CRIMINAL DAMAGE', Description='TO VEHICLE', Location Description='PARKING LOT / GARAGE (NON RESIDENTIAL)', Arrest=False, Domestic=False, Beat=122, District=1, Ward=42, Community Area=32, FBI Code='14', X Coordinate=1174694, Y Coordinate=1901831, Year=2023, Updated On='11/04/2023 03:40:18 PM', Latitude=41.886018055, Longitude=-87.633937881, Location='(41.886018055, -87.633937881)'),\n",
       " Row(ID=13210088, Case Number='JG423627', Date='08/31/2023 12:00:00 PM', Block='023XX W JACKSON BLVD', IUCR='1153', Primary Type='DECEPTIVE PRACTICE', Description='FINANCIAL IDENTITY THEFT OVER $ 300', Location Description='STREET', Arrest=False, Domestic=False, Beat=1225, District=12, Ward=27, Community Area=28, FBI Code='11', X Coordinate=1160870, Y Coordinate=1898642, Year=2023, Updated On='09/16/2023 03:41:56 PM', Latitude=41.877565108, Longitude=-87.68479102, Location='(41.877565108, -87.68479102)'),\n",
       " Row(ID=13210004, Case Number='JG422532', Date='07/24/2023 09:45:00 PM', Block='073XX S JEFFERY BLVD', IUCR='0281', Primary Type='CRIMINAL SEXUAL ASSAULT', Description='NON-AGGRAVATED', Location Description='APARTMENT', Arrest=False, Domestic=False, Beat=333, District=3, Ward=7, Community Area=43, FBI Code='02', X Coordinate=1190812, Y Coordinate=1856743, Year=2023, Updated On='09/16/2023 03:41:56 PM', Latitude=41.7619185, Longitude=-87.576209245, Location='(41.7619185, -87.576209245)')]"
      ]
     },
     "execution_count": 12,
     "metadata": {},
     "output_type": "execute_result"
    }
   ],
   "source": [
    "data.head(5)"
   ]
  },
  {
   "cell_type": "markdown",
   "metadata": {
    "colab_type": "text",
    "id": "nHKAbOgD9PqE"
   },
   "source": [
    "# Data preprocessing - Spark"
   ]
  },
  {
   "cell_type": "markdown",
   "metadata": {
    "colab_type": "text",
    "id": "BzaC4w6y_We0"
   },
   "source": [
    "**Working on data starting 2010.**"
   ]
  },
  {
   "cell_type": "code",
   "execution_count": 13,
   "metadata": {
    "colab": {},
    "colab_type": "code",
    "id": "rkCO4QYi_QIk"
   },
   "outputs": [],
   "source": [
    "\n",
    "# dataset = data.filter((data['Year'] >2015 & (data['Year'] !=2020))\n",
    "\n",
    "dataset = data.filter((data['Year'] > 2009))"
   ]
  },
  {
   "cell_type": "code",
   "execution_count": 14,
   "metadata": {
    "colab": {},
    "colab_type": "code",
    "id": "iITWfMSF9KI0"
   },
   "outputs": [],
   "source": [
    "#dropping columns which non-relative \n",
    "\n",
    "dataset = dataset.drop('ID')\n",
    "dataset = dataset.drop('Case Number')\n",
    "dataset = dataset.drop('FBI Code')\n",
    "dataset = dataset.drop('Updated On')\n",
    "dataset = dataset.drop('IUCR')# Could be useful - four digit codes that law enforcement agencies use to classify criminal incidents when taking individual reports.\n",
    "dataset = dataset.drop('X Coordinate')\n",
    "dataset = dataset.drop('Y Coordinate')\n",
    "dataset = dataset.drop('Location')\n",
    "dataset = dataset.drop('Description')\n",
    "dataset = dataset.drop('Domestic')"
   ]
  },
  {
   "cell_type": "markdown",
   "metadata": {
    "colab_type": "text",
    "id": "EWasgSY39ZFc"
   },
   "source": [
    "**Preprocessing Primary types**"
   ]
  },
  {
   "cell_type": "code",
   "execution_count": 15,
   "metadata": {
    "colab": {
     "base_uri": "https://localhost:8080/",
     "height": 459
    },
    "colab_type": "code",
    "id": "vCIRD2StyWiN",
    "outputId": "8202414d-3bd9-428c-80e7-3c180464015f"
   },
   "outputs": [
    {
     "name": "stderr",
     "output_type": "stream",
     "text": [
      "                                                                                \r"
     ]
    },
    {
     "name": "stdout",
     "output_type": "stream",
     "text": [
      "+--------------------+------+\n",
      "|        Primary Type| count|\n",
      "+--------------------+------+\n",
      "|               THEFT|856662|\n",
      "|             BATTERY|696965|\n",
      "|     CRIMINAL DAMAGE|418588|\n",
      "|           NARCOTICS|280202|\n",
      "|             ASSAULT|271578|\n",
      "|       OTHER OFFENSE|235224|\n",
      "|  DECEPTIVE PRACTICE|229405|\n",
      "|            BURGLARY|199495|\n",
      "| MOTOR VEHICLE THEFT|196296|\n",
      "|             ROBBERY|148516|\n",
      "|   CRIMINAL TRESPASS| 91011|\n",
      "|   WEAPONS VIOLATION| 74872|\n",
      "|OFFENSE INVOLVING...| 31919|\n",
      "|PUBLIC PEACE VIOL...| 27438|\n",
      "|         SEX OFFENSE| 15615|\n",
      "|        PROSTITUTION| 15500|\n",
      "|INTERFERENCE WITH...| 13790|\n",
      "| CRIM SEXUAL ASSAULT| 13488|\n",
      "|            HOMICIDE|  8201|\n",
      "|CRIMINAL SEXUAL A...|  7390|\n",
      "+--------------------+------+\n",
      "only showing top 20 rows\n",
      "\n"
     ]
    }
   ],
   "source": [
    "primaryCount = dataset.groupby('Primary Type').count()\n",
    "primaryCount.orderBy('count', ascending=False).show()"
   ]
  },
  {
   "cell_type": "code",
   "execution_count": 16,
   "metadata": {
    "colab": {},
    "colab_type": "code",
    "id": "Vb9FYC51Y24_"
   },
   "outputs": [
    {
     "name": "stderr",
     "output_type": "stream",
     "text": [
      "                                                                                \r"
     ]
    },
    {
     "name": "stdout",
     "output_type": "stream",
     "text": [
      "Distinct primary types 35\n"
     ]
    }
   ],
   "source": [
    "print('Distinct primary types '+ str(primaryCount.distinct().count()))"
   ]
  },
  {
   "cell_type": "markdown",
   "metadata": {
    "colab_type": "text",
    "id": "XSkptdhjABdF"
   },
   "source": [
    "**Drop crimes which are not so significant**"
   ]
  },
  {
   "cell_type": "code",
   "execution_count": 17,
   "metadata": {
    "colab": {},
    "colab_type": "code",
    "id": "ILpR-ndCMdp2"
   },
   "outputs": [],
   "source": [
    "dataset = dataset.filter((dataset['Primary Type']!='STALKING')&\n",
    "                             (dataset['Primary Type']!='OBSCENITY')&\n",
    "                             (dataset['Primary Type']!='NON-CRIMINAL (SUBJECT SPECIFIED)')&\n",
    "                             (dataset['Primary Type']!='GAMBLING')&\n",
    "                             (dataset['Primary Type']!='NON - CRIMINAL')&\n",
    "                             (dataset['Primary Type']!='LIQUOR LAW VIOLATION')&\n",
    "                             (dataset['Primary Type']!='PUBLIC INDECENCY')&\n",
    "                             (dataset['Primary Type']!='HUMAN TRAFFICKING')&\n",
    "                             (dataset['Primary Type']!='INTIMIDATION')&\n",
    "                             (dataset['Primary Type']!='CONCEALED CARRY LICENSE VIOLATION')&\n",
    "                             (dataset['Primary Type']!='NON-CRIMINAL')&\n",
    "                             (dataset['Primary Type']!='OTHER NARCOTIC VIOLATION'))"
   ]
  },
  {
   "cell_type": "markdown",
   "metadata": {
    "colab_type": "text",
    "id": "w6l0-AN8AffY"
   },
   "source": [
    "**Merging similar crime types**"
   ]
  },
  {
   "cell_type": "code",
   "execution_count": 18,
   "metadata": {
    "colab": {},
    "colab_type": "code",
    "id": "0Wf6mmo6Md4N"
   },
   "outputs": [
    {
     "name": "stdout",
     "output_type": "stream",
     "text": [
      "+--------------------+--------------------+--------------------+--------------------+------+----+--------+----+--------------+----+------------+-------------+\n",
      "|                Date|               Block|        Primary Type|Location Description|Arrest|Beat|District|Ward|Community Area|Year|    Latitude|    Longitude|\n",
      "+--------------------+--------------------+--------------------+--------------------+------+----+--------+----+--------------+----+------------+-------------+\n",
      "|09/06/2023 05:00:...|    002XX N Wells st|     CRIMINAL DAMAGE|PARKING LOT / GAR...| false| 122|       1|  42|            32|2023|41.886018055|-87.633937881|\n",
      "|08/31/2023 12:00:...|023XX W JACKSON BLVD|  DECEPTIVE PRACTICE|              STREET| false|1225|      12|  27|            28|2023|41.877565108| -87.68479102|\n",
      "|07/24/2023 09:45:...|073XX S JEFFERY BLVD|CRIMINAL SEXUAL A...|           APARTMENT| false| 333|       3|   7|            43|2023|  41.7619185|-87.576209245|\n",
      "|08/27/2023 07:00:...|034XX N LAWNDALE AVE|               THEFT|           APARTMENT| false|1732|      17|  30|            21|2023|41.943378528|  -87.7199738|\n",
      "|09/04/2023 09:30:...|   053XX S HOMAN AVE|     CRIMINAL DAMAGE|  RESIDENCE - GARAGE| false| 822|       8|  14|            63|2023|41.796477414|-87.708540915|\n",
      "+--------------------+--------------------+--------------------+--------------------+------+----+--------+----+--------------+----+------------+-------------+\n",
      "only showing top 5 rows\n",
      "\n"
     ]
    }
   ],
   "source": [
    "dataset = dataset.withColumn(\"Primary Type\", \\\n",
    "                               when((dataset[\"Primary Type\"] == 'CRIM SEXUAL ASSAULT') | \\\n",
    "                                    (dataset[\"Primary Type\"] == 'PROSTITUTION') ,'SEX OFFENSE').otherwise(dataset['Primary Type']))\n",
    "dataset=dataset.withColumn(\"Primary Type\", \\\n",
    "                               when((dataset[\"Primary Type\"] == 'WEAPONS VIOLATION') | \\\n",
    "                                    (dataset[\"Primary Type\"] == 'INTERFERENCE WITH PUBLIC OFFICER') ,'PUBLIC PEACE VIOLATION').otherwise(dataset['Primary Type']))\n",
    "dataset=dataset.withColumn(\"Primary Type\", \\\n",
    "                               when((dataset[\"Primary Type\"] == 'ARSON') ,'CRIMINAL TRESPASS').otherwise(dataset['Primary Type']))\n",
    "\n",
    "dataset.show(5)"
   ]
  },
  {
   "cell_type": "code",
   "execution_count": 19,
   "metadata": {
    "colab": {
     "base_uri": "https://localhost:8080/",
     "height": 391
    },
    "colab_type": "code",
    "id": "ryT1U91lMeD8",
    "outputId": "864f6914-80ad-499e-cb00-873147524dbb"
   },
   "outputs": [
    {
     "name": "stderr",
     "output_type": "stream",
     "text": [
      "[Stage 14:============================>                            (8 + 8) / 16]\r"
     ]
    },
    {
     "name": "stdout",
     "output_type": "stream",
     "text": [
      "+--------------------+------+\n",
      "|        Primary Type| count|\n",
      "+--------------------+------+\n",
      "|               THEFT|856662|\n",
      "|             BATTERY|696965|\n",
      "|     CRIMINAL DAMAGE|418588|\n",
      "|           NARCOTICS|280202|\n",
      "|             ASSAULT|271578|\n",
      "|       OTHER OFFENSE|235224|\n",
      "|  DECEPTIVE PRACTICE|229405|\n",
      "|            BURGLARY|199495|\n",
      "| MOTOR VEHICLE THEFT|196296|\n",
      "|             ROBBERY|148516|\n",
      "|PUBLIC PEACE VIOL...|116100|\n",
      "|   CRIMINAL TRESPASS| 97393|\n",
      "|         SEX OFFENSE| 44603|\n",
      "|OFFENSE INVOLVING...| 31919|\n",
      "|            HOMICIDE|  8201|\n",
      "|CRIMINAL SEXUAL A...|  7390|\n",
      "|          KIDNAPPING|  2652|\n",
      "|           RITUALISM|     1|\n",
      "+--------------------+------+\n",
      "\n"
     ]
    },
    {
     "name": "stderr",
     "output_type": "stream",
     "text": [
      "\r",
      "                                                                                \r"
     ]
    }
   ],
   "source": [
    "primaryCount = dataset.groupby('Primary Type').count()\n",
    "primaryCount.orderBy('count', ascending=False).show()"
   ]
  },
  {
   "cell_type": "code",
   "execution_count": 20,
   "metadata": {
    "colab": {
     "base_uri": "https://localhost:8080/",
     "height": 34
    },
    "colab_type": "code",
    "id": "omiJd6kJZxkD",
    "outputId": "09f1457d-4f27-4d66-8242-f6c9ac05950c"
   },
   "outputs": [
    {
     "name": "stderr",
     "output_type": "stream",
     "text": [
      "[Stage 17:============================>                            (8 + 8) / 16]\r"
     ]
    },
    {
     "name": "stdout",
     "output_type": "stream",
     "text": [
      "Distinct primary types after preprocessing 18\n"
     ]
    },
    {
     "name": "stderr",
     "output_type": "stream",
     "text": [
      "\r",
      "[Stage 17:===================================>                    (10 + 6) / 16]\r",
      "\r",
      "                                                                                \r"
     ]
    }
   ],
   "source": [
    "print('Distinct primary types after preprocessing '+ str(primaryCount.distinct().count()))"
   ]
  },
  {
   "cell_type": "markdown",
   "metadata": {
    "colab_type": "text",
    "id": "TQayyfY-BLlZ"
   },
   "source": [
    "**Extract Day, Month, Week from Date Column**"
   ]
  },
  {
   "cell_type": "code",
   "execution_count": 21,
   "metadata": {
    "colab": {
     "base_uri": "https://localhost:8080/",
     "height": 122
    },
    "colab_type": "code",
    "id": "okDarpGxBKln",
    "outputId": "d84a21fe-8e82-41eb-b0d4-c3c7cd7f7eb5"
   },
   "outputs": [
    {
     "data": {
      "text/plain": [
       "[Row(Date='09/06/2023 05:00:00 PM', Block='002XX N Wells st', Primary Type='CRIMINAL DAMAGE', Location Description='PARKING LOT / GARAGE (NON RESIDENTIAL)', Arrest=False, Beat=122, District=1, Ward=42, Community Area=32, Year=2023, Latitude=41.886018055, Longitude=-87.633937881, Day=datetime.date(2023, 9, 6), Month=9, WeekDay=4),\n",
       " Row(Date='08/31/2023 12:00:00 PM', Block='023XX W JACKSON BLVD', Primary Type='DECEPTIVE PRACTICE', Location Description='STREET', Arrest=False, Beat=1225, District=12, Ward=27, Community Area=28, Year=2023, Latitude=41.877565108, Longitude=-87.68479102, Day=datetime.date(2023, 8, 31), Month=8, WeekDay=5),\n",
       " Row(Date='07/24/2023 09:45:00 PM', Block='073XX S JEFFERY BLVD', Primary Type='CRIMINAL SEXUAL ASSAULT', Location Description='APARTMENT', Arrest=False, Beat=333, District=3, Ward=7, Community Area=43, Year=2023, Latitude=41.7619185, Longitude=-87.576209245, Day=datetime.date(2023, 7, 24), Month=7, WeekDay=2),\n",
       " Row(Date='08/27/2023 07:00:00 AM', Block='034XX N LAWNDALE AVE', Primary Type='THEFT', Location Description='APARTMENT', Arrest=False, Beat=1732, District=17, Ward=30, Community Area=21, Year=2023, Latitude=41.943378528, Longitude=-87.7199738, Day=datetime.date(2023, 8, 27), Month=8, WeekDay=1),\n",
       " Row(Date='09/04/2023 09:30:00 PM', Block='053XX S HOMAN AVE', Primary Type='CRIMINAL DAMAGE', Location Description='RESIDENCE - GARAGE', Arrest=False, Beat=822, District=8, Ward=14, Community Area=63, Year=2023, Latitude=41.796477414, Longitude=-87.708540915, Day=datetime.date(2023, 9, 4), Month=9, WeekDay=2)]"
      ]
     },
     "execution_count": 21,
     "metadata": {},
     "output_type": "execute_result"
    }
   ],
   "source": [
    "dataset = dataset.withColumn(\"Day\", F.split(dataset.Date, \" \")[0])\n",
    "dataset = dataset.withColumn(\"Day\", F.to_date(dataset.Day, \"MM/dd/yyyy\"))\n",
    "dataset = dataset.withColumn(\"Month\", F.month(dataset.Day))\n",
    "dataset = dataset.withColumn(\"WeekDay\", F.dayofweek(dataset.Day))\n",
    "dataset = dataset.withColumn(\"Year\", F.year(dataset.Day))\n",
    "dataset = dataset.na.drop()\n",
    "\n",
    "#dataset = dataset.drop('Day')\n",
    "#dataset = dataset.drop('Date')\n",
    "dataset.head(5)"
   ]
  },
  {
   "cell_type": "markdown",
   "metadata": {
    "colab_type": "text",
    "id": "fRffsVR8Dq98"
   },
   "source": [
    "Ignore Latitude and Longitude outside Chichago"
   ]
  },
  {
   "cell_type": "code",
   "execution_count": 22,
   "metadata": {
    "colab": {},
    "colab_type": "code",
    "id": "APNhYAHODp_h"
   },
   "outputs": [],
   "source": [
    "dataset=dataset\\\n",
    "        .filter((dataset[\"Latitude\"] < 45)\n",
    "             & (dataset[\"Latitude\"] > 40)\n",
    "             & (dataset[\"Longitude\"] < -85)\n",
    "             & (dataset[\"Longitude\"] > -90))"
   ]
  },
  {
   "cell_type": "markdown",
   "metadata": {
    "colab_type": "text",
    "id": "4-cNdSzQC4Ip"
   },
   "source": [
    "**Dropping Null values in the data.**"
   ]
  },
  {
   "cell_type": "code",
   "execution_count": 23,
   "metadata": {},
   "outputs": [
    {
     "data": {
      "text/plain": [
       "[Row(Date='09/06/2023 05:00:00 PM', Block='002XX N Wells st', Primary Type='CRIMINAL DAMAGE', Location Description='PARKING LOT / GARAGE (NON RESIDENTIAL)', Arrest=False, Beat=122, District=1, Ward=42, Community Area=32, Year=2023, Latitude=41.886018055, Longitude=-87.633937881, Day=datetime.date(2023, 9, 6), Month=9, WeekDay=4),\n",
       " Row(Date='08/31/2023 12:00:00 PM', Block='023XX W JACKSON BLVD', Primary Type='DECEPTIVE PRACTICE', Location Description='STREET', Arrest=False, Beat=1225, District=12, Ward=27, Community Area=28, Year=2023, Latitude=41.877565108, Longitude=-87.68479102, Day=datetime.date(2023, 8, 31), Month=8, WeekDay=5),\n",
       " Row(Date='07/24/2023 09:45:00 PM', Block='073XX S JEFFERY BLVD', Primary Type='CRIMINAL SEXUAL ASSAULT', Location Description='APARTMENT', Arrest=False, Beat=333, District=3, Ward=7, Community Area=43, Year=2023, Latitude=41.7619185, Longitude=-87.576209245, Day=datetime.date(2023, 7, 24), Month=7, WeekDay=2),\n",
       " Row(Date='08/27/2023 07:00:00 AM', Block='034XX N LAWNDALE AVE', Primary Type='THEFT', Location Description='APARTMENT', Arrest=False, Beat=1732, District=17, Ward=30, Community Area=21, Year=2023, Latitude=41.943378528, Longitude=-87.7199738, Day=datetime.date(2023, 8, 27), Month=8, WeekDay=1),\n",
       " Row(Date='09/04/2023 09:30:00 PM', Block='053XX S HOMAN AVE', Primary Type='CRIMINAL DAMAGE', Location Description='RESIDENCE - GARAGE', Arrest=False, Beat=822, District=8, Ward=14, Community Area=63, Year=2023, Latitude=41.796477414, Longitude=-87.708540915, Day=datetime.date(2023, 9, 4), Month=9, WeekDay=2)]"
      ]
     },
     "execution_count": 23,
     "metadata": {},
     "output_type": "execute_result"
    }
   ],
   "source": [
    "dataset.head(5)"
   ]
  },
  {
   "cell_type": "code",
   "execution_count": 24,
   "metadata": {},
   "outputs": [
    {
     "name": "stderr",
     "output_type": "stream",
     "text": [
      "                                                                                \r"
     ]
    },
    {
     "data": {
      "text/plain": [
       "3790328"
      ]
     },
     "execution_count": 24,
     "metadata": {},
     "output_type": "execute_result"
    }
   ],
   "source": [
    "dataset.count()"
   ]
  },
  {
   "cell_type": "code",
   "execution_count": null,
   "metadata": {},
   "outputs": [],
   "source": []
  },
  {
   "cell_type": "code",
   "execution_count": 25,
   "metadata": {
    "colab": {},
    "colab_type": "code",
    "id": "XTe8B8MJC2AS"
   },
   "outputs": [],
   "source": [
    "dataset=dataset.na.drop()"
   ]
  },
  {
   "cell_type": "code",
   "execution_count": 26,
   "metadata": {},
   "outputs": [
    {
     "name": "stderr",
     "output_type": "stream",
     "text": [
      "                                                                                \r"
     ]
    }
   ],
   "source": [
    "dataset.repartition(1).write.csv('pre_processed_data',mode=\"append\",header=True)"
   ]
  },
  {
   "cell_type": "code",
   "execution_count": 31,
   "metadata": {},
   "outputs": [
    {
     "name": "stderr",
     "output_type": "stream",
     "text": [
      "                                                                                \r"
     ]
    }
   ],
   "source": [
    "# Filter the dataset to select records after 2018\n",
    "filtered_dataset = dataset.filter(dataset['Year'] >= 2019)\n",
    "\n",
    "# Repartition the filtered dataset into a single partition\n",
    "repartitioned_dataset = filtered_dataset.coalesce(1)\n",
    "\n",
    "# Write the repartitioned data to a single CSV file\n",
    "repartitioned_dataset.write.csv('2018onwards', mode=\"append\", header=True)\n"
   ]
  },
  {
   "cell_type": "code",
   "execution_count": null,
   "metadata": {},
   "outputs": [],
   "source": []
  }
 ],
 "metadata": {
  "accelerator": "GPU",
  "colab": {
   "collapsed_sections": [
    "EOV6WxSrCZa6"
   ],
   "machine_shape": "hm",
   "name": "KNN-final.ipynb",
   "provenance": [],
   "toc_visible": true
  },
  "kernelspec": {
   "display_name": "Python 3 (ipykernel)",
   "language": "python",
   "name": "python3"
  },
  "language_info": {
   "codemirror_mode": {
    "name": "ipython",
    "version": 3
   },
   "file_extension": ".py",
   "mimetype": "text/x-python",
   "name": "python",
   "nbconvert_exporter": "python",
   "pygments_lexer": "ipython3",
   "version": "3.11.5"
  }
 },
 "nbformat": 4,
 "nbformat_minor": 1
}
